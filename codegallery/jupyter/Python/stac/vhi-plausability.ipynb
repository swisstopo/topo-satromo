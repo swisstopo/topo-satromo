{
 "cells": [
  {
   "cell_type": "markdown",
   "metadata": {},
   "source": [
    "# <span style=\"color:#336699\">Plausability study of swissEO VHI values</span>\n",
    "<hr style=\"border:2px solid #0077b9;\">\n",
    "<div style=\"text-align: left;\">\n",
    "    <a href=\"https://nbviewer.org/github/swisstopo/topo-satromo/blob/dev-20241209/codegallery/jupyter/Python/stac/stac-image-processing.ipynb\"><img src=\"https://raw.githubusercontent.com/jupyter/design/master/logos/Badges/nbviewer_badge.svg\" align=\"center\"/></a>\n",
    "</div>\n",
    "<br>\n",
    "<b>Abstract.</b> This Jupyter Notebook leads through the plausability study of the swissEO VHI product from data.geo.admin.ch and compares it with various data sources:\n",
    "\n",
    "  - Combined drought index (CDI)\n",
    "  - Treenet\n",
    "  - Sanasilva\n",
    "</div>"
   ]
  },
  {
   "cell_type": "markdown",
   "metadata": {},
   "source": [
    "<hr style=\"border:1px solid #0077b9;\">\n",
    "\n",
    "### Set up connection to the STAC\n",
    "<div>\n",
    "\n",
    "Following packages are recquired: "
   ]
  },
  {
   "cell_type": "code",
   "execution_count": 98,
   "metadata": {},
   "outputs": [
    {
     "name": "stdout",
     "output_type": "stream",
     "text": [
      "Requirement already satisfied: pystac-client in d:\\users\\joan-sturm-w1\\documents\\github\\topo-satromo\\.venv\\lib\\site-packages (0.8.5)\n",
      "Requirement already satisfied: requests>=2.28.2 in d:\\users\\joan-sturm-w1\\documents\\github\\topo-satromo\\.venv\\lib\\site-packages (from pystac-client) (2.32.2)\n",
      "Requirement already satisfied: pystac[validation]>=1.10.0 in d:\\users\\joan-sturm-w1\\documents\\github\\topo-satromo\\.venv\\lib\\site-packages (from pystac-client) (1.11.0)\n",
      "Requirement already satisfied: python-dateutil>=2.8.2 in d:\\users\\joan-sturm-w1\\documents\\github\\topo-satromo\\.venv\\lib\\site-packages (from pystac-client) (2.8.2)\n",
      "Requirement already satisfied: jsonschema~=4.18 in d:\\users\\joan-sturm-w1\\documents\\github\\topo-satromo\\.venv\\lib\\site-packages (from pystac[validation]>=1.10.0->pystac-client) (4.23.0)\n",
      "Requirement already satisfied: six>=1.5 in d:\\users\\joan-sturm-w1\\documents\\github\\topo-satromo\\.venv\\lib\\site-packages (from python-dateutil>=2.8.2->pystac-client) (1.16.0)\n",
      "Requirement already satisfied: charset-normalizer<4,>=2 in d:\\users\\joan-sturm-w1\\documents\\github\\topo-satromo\\.venv\\lib\\site-packages (from requests>=2.28.2->pystac-client) (3.1.0)\n",
      "Requirement already satisfied: idna<4,>=2.5 in d:\\users\\joan-sturm-w1\\documents\\github\\topo-satromo\\.venv\\lib\\site-packages (from requests>=2.28.2->pystac-client) (3.7)\n",
      "Requirement already satisfied: urllib3<3,>=1.21.1 in d:\\users\\joan-sturm-w1\\documents\\github\\topo-satromo\\.venv\\lib\\site-packages (from requests>=2.28.2->pystac-client) (1.26.19)\n",
      "Requirement already satisfied: certifi>=2017.4.17 in d:\\users\\joan-sturm-w1\\documents\\github\\topo-satromo\\.venv\\lib\\site-packages (from requests>=2.28.2->pystac-client) (2024.2.2)\n",
      "Requirement already satisfied: attrs>=22.2.0 in d:\\users\\joan-sturm-w1\\documents\\github\\topo-satromo\\.venv\\lib\\site-packages (from jsonschema~=4.18->pystac[validation]>=1.10.0->pystac-client) (23.1.0)\n",
      "Requirement already satisfied: jsonschema-specifications>=2023.03.6 in d:\\users\\joan-sturm-w1\\documents\\github\\topo-satromo\\.venv\\lib\\site-packages (from jsonschema~=4.18->pystac[validation]>=1.10.0->pystac-client) (2024.10.1)\n",
      "Requirement already satisfied: referencing>=0.28.4 in d:\\users\\joan-sturm-w1\\documents\\github\\topo-satromo\\.venv\\lib\\site-packages (from jsonschema~=4.18->pystac[validation]>=1.10.0->pystac-client) (0.35.1)\n",
      "Requirement already satisfied: rpds-py>=0.7.1 in d:\\users\\joan-sturm-w1\\documents\\github\\topo-satromo\\.venv\\lib\\site-packages (from jsonschema~=4.18->pystac[validation]>=1.10.0->pystac-client) (0.22.3)\n"
     ]
    },
    {
     "name": "stderr",
     "output_type": "stream",
     "text": [
      "\n",
      "[notice] A new release of pip available: 22.3.1 -> 24.3.1\n",
      "[notice] To update, run: python.exe -m pip install --upgrade pip\n"
     ]
    },
    {
     "name": "stdout",
     "output_type": "stream",
     "text": [
      "Requirement already satisfied: matplotlib in d:\\users\\joan-sturm-w1\\documents\\github\\topo-satromo\\.venv\\lib\\site-packages (3.10.0)\n",
      "Requirement already satisfied: contourpy>=1.0.1 in d:\\users\\joan-sturm-w1\\documents\\github\\topo-satromo\\.venv\\lib\\site-packages (from matplotlib) (1.3.1)\n",
      "Requirement already satisfied: cycler>=0.10 in d:\\users\\joan-sturm-w1\\documents\\github\\topo-satromo\\.venv\\lib\\site-packages (from matplotlib) (0.12.1)\n",
      "Requirement already satisfied: fonttools>=4.22.0 in d:\\users\\joan-sturm-w1\\documents\\github\\topo-satromo\\.venv\\lib\\site-packages (from matplotlib) (4.55.3)\n",
      "Requirement already satisfied: kiwisolver>=1.3.1 in d:\\users\\joan-sturm-w1\\documents\\github\\topo-satromo\\.venv\\lib\\site-packages (from matplotlib) (1.4.8)\n",
      "Requirement already satisfied: numpy>=1.23 in d:\\users\\joan-sturm-w1\\documents\\github\\topo-satromo\\.venv\\lib\\site-packages (from matplotlib) (1.25.2)\n",
      "Requirement already satisfied: packaging>=20.0 in d:\\users\\joan-sturm-w1\\documents\\github\\topo-satromo\\.venv\\lib\\site-packages (from matplotlib) (24.0)\n",
      "Requirement already satisfied: pillow>=8 in d:\\users\\joan-sturm-w1\\documents\\github\\topo-satromo\\.venv\\lib\\site-packages (from matplotlib) (11.1.0)\n",
      "Requirement already satisfied: pyparsing>=2.3.1 in d:\\users\\joan-sturm-w1\\documents\\github\\topo-satromo\\.venv\\lib\\site-packages (from matplotlib) (3.0.9)\n",
      "Requirement already satisfied: python-dateutil>=2.7 in d:\\users\\joan-sturm-w1\\documents\\github\\topo-satromo\\.venv\\lib\\site-packages (from matplotlib) (2.8.2)\n",
      "Requirement already satisfied: six>=1.5 in d:\\users\\joan-sturm-w1\\documents\\github\\topo-satromo\\.venv\\lib\\site-packages (from python-dateutil>=2.7->matplotlib) (1.16.0)\n"
     ]
    },
    {
     "name": "stderr",
     "output_type": "stream",
     "text": [
      "\n",
      "[notice] A new release of pip available: 22.3.1 -> 24.3.1\n",
      "[notice] To update, run: python.exe -m pip install --upgrade pip\n"
     ]
    },
    {
     "name": "stdout",
     "output_type": "stream",
     "text": [
      "Requirement already satisfied: pandas in d:\\users\\joan-sturm-w1\\documents\\github\\topo-satromo\\.venv\\lib\\site-packages (2.1.3)"
     ]
    },
    {
     "name": "stderr",
     "output_type": "stream",
     "text": [
      "\n",
      "[notice] A new release of pip available: 22.3.1 -> 24.3.1\n",
      "[notice] To update, run: python.exe -m pip install --upgrade pip\n"
     ]
    },
    {
     "name": "stdout",
     "output_type": "stream",
     "text": [
      "\n",
      "Requirement already satisfied: numpy<2,>=1.23.2 in d:\\users\\joan-sturm-w1\\documents\\github\\topo-satromo\\.venv\\lib\\site-packages (from pandas) (1.25.2)\n",
      "Requirement already satisfied: python-dateutil>=2.8.2 in d:\\users\\joan-sturm-w1\\documents\\github\\topo-satromo\\.venv\\lib\\site-packages (from pandas) (2.8.2)\n",
      "Requirement already satisfied: pytz>=2020.1 in d:\\users\\joan-sturm-w1\\documents\\github\\topo-satromo\\.venv\\lib\\site-packages (from pandas) (2023.3.post1)\n",
      "Requirement already satisfied: tzdata>=2022.1 in d:\\users\\joan-sturm-w1\\documents\\github\\topo-satromo\\.venv\\lib\\site-packages (from pandas) (2023.3)\n",
      "Requirement already satisfied: six>=1.5 in d:\\users\\joan-sturm-w1\\documents\\github\\topo-satromo\\.venv\\lib\\site-packages (from python-dateutil>=2.8.2->pandas) (1.16.0)\n",
      "Requirement already satisfied: geopandas in d:\\users\\joan-sturm-w1\\documents\\github\\topo-satromo\\.venv\\lib\\site-packages (0.14.4)\n",
      "Requirement already satisfied: fiona>=1.8.21 in d:\\users\\joan-sturm-w1\\documents\\github\\topo-satromo\\.venv\\lib\\site-packages (from geopandas) (1.10.1)\n",
      "Requirement already satisfied: numpy>=1.22 in d:\\users\\joan-sturm-w1\\documents\\github\\topo-satromo\\.venv\\lib\\site-packages (from geopandas) (1.25.2)\n",
      "Requirement already satisfied: packaging in d:\\users\\joan-sturm-w1\\documents\\github\\topo-satromo\\.venv\\lib\\site-packages (from geopandas) (24.0)\n",
      "Requirement already satisfied: pandas>=1.4.0 in d:\\users\\joan-sturm-w1\\documents\\github\\topo-satromo\\.venv\\lib\\site-packages (from geopandas) (2.1.3)\n",
      "Requirement already satisfied: pyproj>=3.3.0 in d:\\users\\joan-sturm-w1\\documents\\github\\topo-satromo\\.venv\\lib\\site-packages (from geopandas) (3.6.0)\n",
      "Requirement already satisfied: shapely>=1.8.0 in d:\\users\\joan-sturm-w1\\documents\\github\\topo-satromo\\.venv\\lib\\site-packages (from geopandas) (2.0.1)\n",
      "Requirement already satisfied: attrs>=19.2.0 in d:\\users\\joan-sturm-w1\\documents\\github\\topo-satromo\\.venv\\lib\\site-packages (from fiona>=1.8.21->geopandas) (23.1.0)\n",
      "Requirement already satisfied: certifi in d:\\users\\joan-sturm-w1\\documents\\github\\topo-satromo\\.venv\\lib\\site-packages (from fiona>=1.8.21->geopandas) (2024.2.2)\n",
      "Requirement already satisfied: click~=8.0 in d:\\users\\joan-sturm-w1\\documents\\github\\topo-satromo\\.venv\\lib\\site-packages (from fiona>=1.8.21->geopandas) (8.1.7)\n",
      "Requirement already satisfied: click-plugins>=1.0 in d:\\users\\joan-sturm-w1\\documents\\github\\topo-satromo\\.venv\\lib\\site-packages (from fiona>=1.8.21->geopandas) (1.1.1)\n",
      "Requirement already satisfied: cligj>=0.5 in d:\\users\\joan-sturm-w1\\documents\\github\\topo-satromo\\.venv\\lib\\site-packages (from fiona>=1.8.21->geopandas) (0.7.2)\n",
      "Requirement already satisfied: python-dateutil>=2.8.2 in d:\\users\\joan-sturm-w1\\documents\\github\\topo-satromo\\.venv\\lib\\site-packages (from pandas>=1.4.0->geopandas) (2.8.2)\n",
      "Requirement already satisfied: pytz>=2020.1 in d:\\users\\joan-sturm-w1\\documents\\github\\topo-satromo\\.venv\\lib\\site-packages (from pandas>=1.4.0->geopandas) (2023.3.post1)\n",
      "Requirement already satisfied: tzdata>=2022.1 in d:\\users\\joan-sturm-w1\\documents\\github\\topo-satromo\\.venv\\lib\\site-packages (from pandas>=1.4.0->geopandas) (2023.3)\n",
      "Requirement already satisfied: colorama in d:\\users\\joan-sturm-w1\\documents\\github\\topo-satromo\\.venv\\lib\\site-packages (from click~=8.0->fiona>=1.8.21->geopandas) (0.4.6)\n",
      "Requirement already satisfied: six>=1.5 in d:\\users\\joan-sturm-w1\\documents\\github\\topo-satromo\\.venv\\lib\\site-packages (from python-dateutil>=2.8.2->pandas>=1.4.0->geopandas) (1.16.0)\n"
     ]
    },
    {
     "name": "stderr",
     "output_type": "stream",
     "text": [
      "\n",
      "[notice] A new release of pip available: 22.3.1 -> 24.3.1\n",
      "[notice] To update, run: python.exe -m pip install --upgrade pip\n"
     ]
    },
    {
     "name": "stdout",
     "output_type": "stream",
     "text": [
      "Requirement already satisfied: numpy in d:\\users\\joan-sturm-w1\\documents\\github\\topo-satromo\\.venv\\lib\\site-packages (1.25.2)\n"
     ]
    },
    {
     "name": "stderr",
     "output_type": "stream",
     "text": [
      "\n",
      "[notice] A new release of pip available: 22.3.1 -> 24.3.1\n",
      "[notice] To update, run: python.exe -m pip install --upgrade pip\n"
     ]
    },
    {
     "name": "stdout",
     "output_type": "stream",
     "text": [
      "Requirement already satisfied: datetime in d:\\users\\joan-sturm-w1\\documents\\github\\topo-satromo\\.venv\\lib\\site-packages (5.5)\n",
      "Requirement already satisfied: zope.interface in d:\\users\\joan-sturm-w1\\documents\\github\\topo-satromo\\.venv\\lib\\site-packages (from datetime) (7.2)\n",
      "Requirement already satisfied: pytz in d:\\users\\joan-sturm-w1\\documents\\github\\topo-satromo\\.venv\\lib\\site-packages (from datetime) (2023.3.post1)\n",
      "Requirement already satisfied: setuptools in d:\\users\\joan-sturm-w1\\documents\\github\\topo-satromo\\.venv\\lib\\site-packages (from zope.interface->datetime) (65.5.0)\n"
     ]
    },
    {
     "name": "stderr",
     "output_type": "stream",
     "text": [
      "\n",
      "[notice] A new release of pip available: 22.3.1 -> 24.3.1\n",
      "[notice] To update, run: python.exe -m pip install --upgrade pip\n"
     ]
    },
    {
     "name": "stdout",
     "output_type": "stream",
     "text": [
      "Collecting seaborn\n",
      "  Downloading seaborn-0.13.2-py3-none-any.whl (294 kB)\n",
      "     ------------------------------------- 294.9/294.9 kB 17.8 MB/s eta 0:00:00\n",
      "Requirement already satisfied: numpy!=1.24.0,>=1.20 in d:\\users\\joan-sturm-w1\\documents\\github\\topo-satromo\\.venv\\lib\\site-packages (from seaborn) (1.25.2)\n",
      "Requirement already satisfied: pandas>=1.2 in d:\\users\\joan-sturm-w1\\documents\\github\\topo-satromo\\.venv\\lib\\site-packages (from seaborn) (2.1.3)\n",
      "Requirement already satisfied: matplotlib!=3.6.1,>=3.4 in d:\\users\\joan-sturm-w1\\documents\\github\\topo-satromo\\.venv\\lib\\site-packages (from seaborn) (3.10.0)\n",
      "Requirement already satisfied: contourpy>=1.0.1 in d:\\users\\joan-sturm-w1\\documents\\github\\topo-satromo\\.venv\\lib\\site-packages (from matplotlib!=3.6.1,>=3.4->seaborn) (1.3.1)\n",
      "Requirement already satisfied: cycler>=0.10 in d:\\users\\joan-sturm-w1\\documents\\github\\topo-satromo\\.venv\\lib\\site-packages (from matplotlib!=3.6.1,>=3.4->seaborn) (0.12.1)\n",
      "Requirement already satisfied: fonttools>=4.22.0 in d:\\users\\joan-sturm-w1\\documents\\github\\topo-satromo\\.venv\\lib\\site-packages (from matplotlib!=3.6.1,>=3.4->seaborn) (4.55.3)\n",
      "Requirement already satisfied: kiwisolver>=1.3.1 in d:\\users\\joan-sturm-w1\\documents\\github\\topo-satromo\\.venv\\lib\\site-packages (from matplotlib!=3.6.1,>=3.4->seaborn) (1.4.8)\n",
      "Requirement already satisfied: packaging>=20.0 in d:\\users\\joan-sturm-w1\\documents\\github\\topo-satromo\\.venv\\lib\\site-packages (from matplotlib!=3.6.1,>=3.4->seaborn) (24.0)\n",
      "Requirement already satisfied: pillow>=8 in d:\\users\\joan-sturm-w1\\documents\\github\\topo-satromo\\.venv\\lib\\site-packages (from matplotlib!=3.6.1,>=3.4->seaborn) (11.1.0)\n",
      "Requirement already satisfied: pyparsing>=2.3.1 in d:\\users\\joan-sturm-w1\\documents\\github\\topo-satromo\\.venv\\lib\\site-packages (from matplotlib!=3.6.1,>=3.4->seaborn) (3.0.9)\n",
      "Requirement already satisfied: python-dateutil>=2.7 in d:\\users\\joan-sturm-w1\\documents\\github\\topo-satromo\\.venv\\lib\\site-packages (from matplotlib!=3.6.1,>=3.4->seaborn) (2.8.2)\n",
      "Requirement already satisfied: pytz>=2020.1 in d:\\users\\joan-sturm-w1\\documents\\github\\topo-satromo\\.venv\\lib\\site-packages (from pandas>=1.2->seaborn) (2023.3.post1)\n",
      "Requirement already satisfied: tzdata>=2022.1 in d:\\users\\joan-sturm-w1\\documents\\github\\topo-satromo\\.venv\\lib\\site-packages (from pandas>=1.2->seaborn) (2023.3)\n",
      "Requirement already satisfied: six>=1.5 in d:\\users\\joan-sturm-w1\\documents\\github\\topo-satromo\\.venv\\lib\\site-packages (from python-dateutil>=2.7->matplotlib!=3.6.1,>=3.4->seaborn) (1.16.0)\n",
      "Installing collected packages: seaborn\n",
      "Successfully installed seaborn-0.13.2\n"
     ]
    },
    {
     "name": "stderr",
     "output_type": "stream",
     "text": [
      "\n",
      "[notice] A new release of pip available: 22.3.1 -> 24.3.1\n",
      "[notice] To update, run: python.exe -m pip install --upgrade pip\n"
     ]
    }
   ],
   "source": [
    "!pip install pystac-client\n",
    "#!pip install rasterio\n",
    "#!pip install shapely\n",
    "!pip install matplotlib\n",
    "!pip install pandas\n",
    "!pip install geopandas\n",
    "!pip install numpy\n",
    "!pip install datetime\n",
    "!pip install seaborn"
   ]
  },
  {
   "cell_type": "code",
   "execution_count": 3,
   "metadata": {},
   "outputs": [],
   "source": [
    "import pystac_client\n",
    "import pandas as pd\n",
    "import geopandas as gpd\n",
    "import numpy as np\n",
    "from datetime import timedelta"
   ]
  },
  {
   "cell_type": "markdown",
   "metadata": {},
   "source": [
    "Creating a STAC object attached to the data.geo.admin.ch STAC service (due to the swisstopo specific STAC implementaion, we need to add the conrformance classes)."
   ]
  },
  {
   "cell_type": "code",
   "execution_count": 4,
   "metadata": {},
   "outputs": [
    {
     "name": "stdout",
     "output_type": "stream",
     "text": [
      "<CollectionClient id=ch.swisstopo.swisseo_s2-sr_v100>\n",
      "<CollectionClient id=ch.swisstopo.swisseo_vhi_v100>\n"
     ]
    }
   ],
   "source": [
    "service = pystac_client.Client.open('https://data.geo.admin.ch/api/stac/v0.9/')\n",
    "service.add_conforms_to(\"COLLECTIONS\")\n",
    "service.add_conforms_to(\"ITEM_SEARCH\")\n",
    "\n",
    "for collection in service.get_collections():\n",
    "    if \"swisseo\" in collection.id.lower():\n",
    "        print(collection)"
   ]
  },
  {
   "cell_type": "markdown",
   "metadata": {},
   "source": [
    "<hr style=\"border:1px solid #0077b9;\">\n",
    "\n",
    "### Merging CDI data with the respective VHI values\n",
    "<div>\n",
    "\n",
    "The data provided by MeteoSwiss is a table of weekly values for each warning region (n = 38). The data covers the years 1991-2022 for the variables CDI, precipitation sums (1m, 3m, 24m), water bodies, and soil moisture. For each of the variables, there are classified values between 1 (non-concerning values regarding drought) and 5 (severe drought conditions).\n",
    "\n",
    "First, the data needs to be loaded."
   ]
  },
  {
   "cell_type": "code",
   "execution_count": 5,
   "metadata": {},
   "outputs": [],
   "source": [
    "df = pd.read_csv('https://gist.githubusercontent.com/Tschoun/7b7d46a31303f41dee39a6f051aed55f/raw/c269b491802b39f7c1f4bded411b6ef3f7dbfc5b/CDI_1991-01-01_2022-12-31.csv',\n",
    "                 sep = ';')\n",
    "df.loc[:, 'Region_ID'] = df['Region_ID'] + 30 # to match the Region_IDs used across the drought platform\n",
    "# df.head()"
   ]
  },
  {
   "cell_type": "markdown",
   "metadata": {},
   "source": [
    "If we're only working with the VHI derived from Sentinel-2 data we can remove all the entries before Sentinel-2 data was available operationally."
   ]
  },
  {
   "cell_type": "code",
   "execution_count": 6,
   "metadata": {},
   "outputs": [
    {
     "data": {
      "text/html": [
       "<div>\n",
       "<style scoped>\n",
       "    .dataframe tbody tr th:only-of-type {\n",
       "        vertical-align: middle;\n",
       "    }\n",
       "\n",
       "    .dataframe tbody tr th {\n",
       "        vertical-align: top;\n",
       "    }\n",
       "\n",
       "    .dataframe thead th {\n",
       "        text-align: right;\n",
       "    }\n",
       "</style>\n",
       "<table border=\"1\" class=\"dataframe\">\n",
       "  <thead>\n",
       "    <tr style=\"text-align: right;\">\n",
       "      <th></th>\n",
       "      <th>Datum</th>\n",
       "      <th>Region_ID</th>\n",
       "      <th>NiedSumme1M</th>\n",
       "      <th>NiedSumme3M</th>\n",
       "      <th>NiedSumme24M</th>\n",
       "      <th>Gewässer</th>\n",
       "      <th>Bodenfeuchte</th>\n",
       "      <th>CDI</th>\n",
       "    </tr>\n",
       "  </thead>\n",
       "  <tbody>\n",
       "    <tr>\n",
       "      <th>52060</th>\n",
       "      <td>2017-04-09</td>\n",
       "      <td>31</td>\n",
       "      <td>5</td>\n",
       "      <td>1</td>\n",
       "      <td>1</td>\n",
       "      <td>4</td>\n",
       "      <td>3</td>\n",
       "      <td>4</td>\n",
       "    </tr>\n",
       "    <tr>\n",
       "      <th>52061</th>\n",
       "      <td>2017-04-09</td>\n",
       "      <td>32</td>\n",
       "      <td>5</td>\n",
       "      <td>1</td>\n",
       "      <td>1</td>\n",
       "      <td>3</td>\n",
       "      <td>3</td>\n",
       "      <td>3</td>\n",
       "    </tr>\n",
       "    <tr>\n",
       "      <th>52062</th>\n",
       "      <td>2017-04-09</td>\n",
       "      <td>33</td>\n",
       "      <td>5</td>\n",
       "      <td>1</td>\n",
       "      <td>1</td>\n",
       "      <td>1</td>\n",
       "      <td>2</td>\n",
       "      <td>2</td>\n",
       "    </tr>\n",
       "    <tr>\n",
       "      <th>52063</th>\n",
       "      <td>2017-04-09</td>\n",
       "      <td>34</td>\n",
       "      <td>4</td>\n",
       "      <td>1</td>\n",
       "      <td>1</td>\n",
       "      <td>3</td>\n",
       "      <td>1</td>\n",
       "      <td>3</td>\n",
       "    </tr>\n",
       "    <tr>\n",
       "      <th>52064</th>\n",
       "      <td>2017-04-09</td>\n",
       "      <td>35</td>\n",
       "      <td>2</td>\n",
       "      <td>1</td>\n",
       "      <td>1</td>\n",
       "      <td>1</td>\n",
       "      <td>1</td>\n",
       "      <td>1</td>\n",
       "    </tr>\n",
       "  </tbody>\n",
       "</table>\n",
       "</div>"
      ],
      "text/plain": [
       "           Datum  Region_ID  NiedSumme1M  NiedSumme3M  NiedSumme24M  Gewässer  \\\n",
       "52060 2017-04-09         31            5            1             1         4   \n",
       "52061 2017-04-09         32            5            1             1         3   \n",
       "52062 2017-04-09         33            5            1             1         1   \n",
       "52063 2017-04-09         34            4            1             1         3   \n",
       "52064 2017-04-09         35            2            1             1         1   \n",
       "\n",
       "       Bodenfeuchte  CDI  \n",
       "52060             3    4  \n",
       "52061             3    3  \n",
       "52062             2    2  \n",
       "52063             1    3  \n",
       "52064             1    1  "
      ]
     },
     "execution_count": 6,
     "metadata": {},
     "output_type": "execute_result"
    }
   ],
   "source": [
    "df['Datum'] = pd.to_datetime(df['Datum'])\n",
    "df_S2 = df[df['Datum'] > '2017-04-03'] # first swissEO VHI product dates from 2017-04-04\n",
    "df_S2.head()"
   ]
  },
  {
   "cell_type": "markdown",
   "metadata": {},
   "source": [
    "Four new columns need to be added to the dataframe:\n",
    "\n",
    "- 'VHI': VHI value [-; 0-100] (classified vegetation health values -> 0-9: extremely stressed, 10-19: severely stressed, 20-29: stressed, 30-39: moderately stressed, 40-49: normal, 50-59: good, 60-100: excellent, 110: no data)\n",
    "- 'DiffD': The difference between the date of the CDI and the last VHI value [d]. Optimally this will be zero, meaning there's a VHI product for the specific date, in case of no available VHI product on that date, it will take the last available one previous to the that date and declare in this column how many days earlier the VHI product is from.\n",
    "- 'Availability': The availability of VHI values within the region [%].\n",
    "- 'Current': The amount of VHI values within this weekly composite that originate from the newest scene [%]. Because the VHI product takes all the swissEO S2-SR scenes within a 7d time frame previous to the specified date into account, it's possible that most of the VHI values are a few days older depending on the newest orbit and the extent of the cloud mask."
   ]
  },
  {
   "cell_type": "markdown",
   "metadata": {},
   "source": [
    "First of all, we extract the 'VHI' values and the 'Availability' from the swissEO VHI geojson datasets for the forest regions. Forests are chosen because their signal is more robust, as they are less managed than agricultural lands. "
   ]
  },
  {
   "cell_type": "code",
   "execution_count": 7,
   "metadata": {},
   "outputs": [],
   "source": [
    "item_search = service.search(\n",
    "    datetime='2017-04-04/2022-12-31',\n",
    "    collections=['ch.swisstopo.swisseo_vhi_v100']\n",
    ")\n",
    "for item in item_search.items():\n",
    "    assets = item.assets\n",
    "asset_key = next((key for key in assets.keys() if key.endswith('forest-warnregions.geojson')), None)\n",
    "metadata_asset = assets[asset_key ]\n",
    "\n",
    "gdf = gpd.read_file(metadata_asset.href)\n",
    "properties = gdf[['REGION_NR', 'vhi_mean', 'availability_percentage']]\n",
    "properties = properties.replace(110, np.nan)\n",
    "# properties.head()"
   ]
  },
  {
   "cell_type": "markdown",
   "metadata": {},
   "source": [
    "We need to know the date of the VHI values. We're looking for the same date as the CDI value. If there's no VHI product from that date, we take the latest product prior to that date."
   ]
  },
  {
   "cell_type": "code",
   "execution_count": 9,
   "metadata": {},
   "outputs": [],
   "source": [
    "unique_dates = df_S2['Datum'].unique()\n",
    "\n",
    "results = []\n",
    "\n",
    "for date in unique_dates:\n",
    "    # Convert date to string format expected by STAC API\n",
    "    date_str = date.strftime('%Y-%m-%d')\n",
    "    \n",
    "    # Search for exact date\n",
    "    item_search = service.search(\n",
    "        datetime=f'{date_str}/{date_str}',\n",
    "        collections=['ch.swisstopo.swisseo_vhi_v100']\n",
    "    )\n",
    "    \n",
    "    items = list(item_search.items())\n",
    "    \n",
    "    # If no items found, search for the last item before the date\n",
    "    if not items:\n",
    "        search_date = date\n",
    "        while not items and search_date > df_S2['Datum'].min():\n",
    "            search_date -= timedelta(days=1)\n",
    "            item_search = service.search(\n",
    "                datetime=f'{search_date.strftime(\"%Y-%m-%d\")}/{search_date.strftime(\"%Y-%m-%d\")}',\n",
    "                collections=['ch.swisstopo.swisseo_vhi_v100']\n",
    "            )\n",
    "            items = list(item_search.items())\n",
    "    \n",
    "    if items:\n",
    "        item = items[0]  # Take the first item if multiple are found\n",
    "        assets = item.assets\n",
    "        asset_key = next((key for key in assets.keys() if key.endswith('forest-warnregions.geojson')), None)\n",
    "        \n",
    "        if asset_key:\n",
    "            metadata_asset = assets[asset_key]\n",
    "            gdf = gpd.read_file(metadata_asset.href)\n",
    "            properties = gdf[['REGION_NR', 'vhi_mean', 'availability_percentage']]\n",
    "            properties = properties.replace(110, np.nan)\n",
    "            \n",
    "            # Add the original date and the actual date of the data\n",
    "            properties['Datum'] = date\n",
    "            properties['ActualDate'] = item.datetime.date()\n",
    "            \n",
    "            # Calculate DiffD\n",
    "            # properties['DiffD'] = (date - item.datetime.date()).days\n",
    "            \n",
    "            results.append(properties)\n",
    "\n",
    "# Combine all results into a single DataFrame\n",
    "final_results = pd.concat(results, ignore_index=True)\n",
    "# final_results.iloc[160:171]\n"
   ]
  },
  {
   "cell_type": "markdown",
   "metadata": {},
   "source": [
    "Because the date of the last VHI product does not always match the date of the CDI, the delay in days is calculated."
   ]
  },
  {
   "cell_type": "code",
   "execution_count": 10,
   "metadata": {},
   "outputs": [],
   "source": [
    "# Convert columns to datetime if they're not already\n",
    "final_results['Datum'] = pd.to_datetime(final_results['Datum'])\n",
    "final_results['ActualDate'] = pd.to_datetime(final_results['ActualDate'])\n",
    "\n",
    "# Calculate the difference in days\n",
    "final_results['DaysDifference'] = (final_results['Datum'] - final_results['ActualDate']).dt.days\n",
    "final_results = final_results.rename(columns={\n",
    "    'REGION_NR': 'Region_ID',\n",
    "    'vhi_mean': 'VHI',\n",
    "    'availability_percentage': 'Availability',\n",
    "    'DaysDifference': 'DiffD'\n",
    "})\n",
    "# final_results.iloc[160:171]"
   ]
  },
  {
   "cell_type": "markdown",
   "metadata": {},
   "source": [
    "Now the two data frames need to be merged."
   ]
  },
  {
   "cell_type": "code",
   "execution_count": 13,
   "metadata": {},
   "outputs": [
    {
     "data": {
      "text/html": [
       "<div>\n",
       "<style scoped>\n",
       "    .dataframe tbody tr th:only-of-type {\n",
       "        vertical-align: middle;\n",
       "    }\n",
       "\n",
       "    .dataframe tbody tr th {\n",
       "        vertical-align: top;\n",
       "    }\n",
       "\n",
       "    .dataframe thead th {\n",
       "        text-align: right;\n",
       "    }\n",
       "</style>\n",
       "<table border=\"1\" class=\"dataframe\">\n",
       "  <thead>\n",
       "    <tr style=\"text-align: right;\">\n",
       "      <th></th>\n",
       "      <th>Datum</th>\n",
       "      <th>Region_ID</th>\n",
       "      <th>NiedSumme1M</th>\n",
       "      <th>NiedSumme3M</th>\n",
       "      <th>NiedSumme24M</th>\n",
       "      <th>Gewässer</th>\n",
       "      <th>Bodenfeuchte</th>\n",
       "      <th>CDI</th>\n",
       "      <th>VHI</th>\n",
       "      <th>Availability</th>\n",
       "      <th>DiffD</th>\n",
       "    </tr>\n",
       "  </thead>\n",
       "  <tbody>\n",
       "    <tr>\n",
       "      <th>150</th>\n",
       "      <td>2017-04-30</td>\n",
       "      <td>67</td>\n",
       "      <td>1</td>\n",
       "      <td>1</td>\n",
       "      <td>1</td>\n",
       "      <td>1</td>\n",
       "      <td>4</td>\n",
       "      <td>1</td>\n",
       "      <td>NaN</td>\n",
       "      <td>NaN</td>\n",
       "      <td>7</td>\n",
       "    </tr>\n",
       "    <tr>\n",
       "      <th>151</th>\n",
       "      <td>2017-04-30</td>\n",
       "      <td>68</td>\n",
       "      <td>1</td>\n",
       "      <td>1</td>\n",
       "      <td>1</td>\n",
       "      <td>2</td>\n",
       "      <td>5</td>\n",
       "      <td>2</td>\n",
       "      <td>NaN</td>\n",
       "      <td>NaN</td>\n",
       "      <td>7</td>\n",
       "    </tr>\n",
       "    <tr>\n",
       "      <th>152</th>\n",
       "      <td>2017-05-07</td>\n",
       "      <td>31</td>\n",
       "      <td>1</td>\n",
       "      <td>1</td>\n",
       "      <td>3</td>\n",
       "      <td>1</td>\n",
       "      <td>1</td>\n",
       "      <td>1</td>\n",
       "      <td>35.0</td>\n",
       "      <td>20.8</td>\n",
       "      <td>14</td>\n",
       "    </tr>\n",
       "    <tr>\n",
       "      <th>153</th>\n",
       "      <td>2017-05-07</td>\n",
       "      <td>32</td>\n",
       "      <td>1</td>\n",
       "      <td>1</td>\n",
       "      <td>1</td>\n",
       "      <td>1</td>\n",
       "      <td>1</td>\n",
       "      <td>1</td>\n",
       "      <td>28.0</td>\n",
       "      <td>31.5</td>\n",
       "      <td>14</td>\n",
       "    </tr>\n",
       "    <tr>\n",
       "      <th>154</th>\n",
       "      <td>2017-05-07</td>\n",
       "      <td>33</td>\n",
       "      <td>1</td>\n",
       "      <td>1</td>\n",
       "      <td>1</td>\n",
       "      <td>1</td>\n",
       "      <td>1</td>\n",
       "      <td>1</td>\n",
       "      <td>46.0</td>\n",
       "      <td>48.8</td>\n",
       "      <td>14</td>\n",
       "    </tr>\n",
       "  </tbody>\n",
       "</table>\n",
       "</div>"
      ],
      "text/plain": [
       "         Datum  Region_ID  NiedSumme1M  NiedSumme3M  NiedSumme24M  Gewässer  \\\n",
       "150 2017-04-30         67            1            1             1         1   \n",
       "151 2017-04-30         68            1            1             1         2   \n",
       "152 2017-05-07         31            1            1             3         1   \n",
       "153 2017-05-07         32            1            1             1         1   \n",
       "154 2017-05-07         33            1            1             1         1   \n",
       "\n",
       "     Bodenfeuchte  CDI   VHI  Availability  DiffD  \n",
       "150             4    1   NaN           NaN      7  \n",
       "151             5    2   NaN           NaN      7  \n",
       "152             1    1  35.0          20.8     14  \n",
       "153             1    1  28.0          31.5     14  \n",
       "154             1    1  46.0          48.8     14  "
      ]
     },
     "execution_count": 13,
     "metadata": {},
     "output_type": "execute_result"
    }
   ],
   "source": [
    "# Merge the DataFrames\n",
    "df_merged = df_S2.merge(final_results[['Datum', 'Region_ID', 'VHI', 'Availability', 'DiffD']], \n",
    "                        on=['Datum', 'Region_ID'], \n",
    "                        how='left')\n",
    "df_merged.iloc[150:155]"
   ]
  },
  {
   "cell_type": "markdown",
   "metadata": {},
   "source": [
    "To do:\n",
    "- *Adding the column 'Current' to state how much of the VHI value is from the lates available swissEO S2-SR product.*\n",
    "- *für historische Werte, alle Daten in Monat mit VHI dieses Monats ergänzen*"
   ]
  },
  {
   "cell_type": "markdown",
   "metadata": {},
   "source": [
    "<hr style=\"border:1px solid #0077b9;\">\n",
    "\n",
    "### Comparison of CDI and VHI values\n",
    "<div>\n",
    "\n",
    "To compare a categorical variable (CDI) with a continuous variable (VHI), you can use several methods:\n",
    "- Box plots: Create side-by-side box plots for each CDI category (1-5) to visualize the distribution of VHI values. This will help you see if there's a trend of lower VHI values for higher CDI categories.\n",
    "- One-way ANOVA: If the VHI values are normally distributed within each CDI category, use a one-way ANOVA to test for significant differences in mean VHI across CDI categories.\n",
    "- Kruskal-Wallis test: If the VHI values are not normally distributed, use this non-parametric alternative to one-way ANOVA.\n",
    "- Spearman's rank correlation: Since CDI is ordinal (1-5) and you expect an inverse relationship with VHI, calculate Spearman's correlation coefficient to measure the strength and direction of association.\n",
    "- Visualization: Create a scatter plot with CDI on the x-axis and VHI on the y-axis. Add a trend line to visualize the relationship.\n",
    "- Chi-square test for trend: If you categorize VHI into bins, you can use this test to assess if there's a significant trend across CDI categories.\n"
   ]
  },
  {
   "cell_type": "code",
   "execution_count": 99,
   "metadata": {},
   "outputs": [],
   "source": [
    "import matplotlib.pyplot as plt\n",
    "import seaborn as sns"
   ]
  },
  {
   "cell_type": "code",
   "execution_count": 95,
   "metadata": {},
   "outputs": [],
   "source": [
    "# Set your desired thresholds\n",
    "availability_threshold = 20 # more than x % VHI availability within the region\n",
    "diffd_threshold = 14 # less than x days time difference between CDI and VHI\n",
    "start_date = '2018-03-01'\n",
    "end_date = '2018-09-30'\n",
    "region = 42 # Region_ID\n",
    "\n",
    "# Filter the DataFrame\n",
    "df_filtered = df_merged[(df_merged['Availability'] > availability_threshold) & \n",
    "                        (df_merged['DiffD'] < diffd_threshold) &\n",
    "                        (df_merged['Datum'] > start_date) &\n",
    "                        (df_merged['Datum'] < end_date) &\n",
    "                        (df_merged['Region_ID'] == region)\n",
    "                        ]"
   ]
  },
  {
   "cell_type": "markdown",
   "metadata": {},
   "source": [
    "Box plots:"
   ]
  },
  {
   "cell_type": "code",
   "execution_count": 96,
   "metadata": {},
   "outputs": [
    {
     "data": {
      "text/plain": [
       "<Figure size 1000x600 with 0 Axes>"
      ]
     },
     "metadata": {},
     "output_type": "display_data"
    },
    {
     "data": {
      "image/png": "[encoded data removed]",
      "text/plain": [
       "<Figure size 640x480 with 1 Axes>"
      ]
     },
     "metadata": {},
     "output_type": "display_data"
    }
   ],
   "source": [
    "plt.figure(figsize=(10, 6))\n",
    "ax = df_filtered.boxplot(column='VHI', by='CDI')\n",
    "plt.xlabel('Combined Drought Index')\n",
    "plt.ylabel('Vegtation Health Index')\n",
    "plt.grid(False)\n",
    "plt.title(str(start_date) + ' to ' + str(end_date))\n",
    "ax.get_figure().suptitle('', y = 1.0)\n",
    "ax.set_xlim(0.5, 5.5)\n",
    "ax.set_ylim(0, 100)\n",
    "plt.show()"
   ]
  },
  {
   "cell_type": "markdown",
   "metadata": {},
   "source": [
    "Not what we expected. A high CDI and a low VHI both mean dry or stressfull conditions. Does not change much when adjusting the thresholds.\n",
    "\n",
    "We suspect a time lag, with the VHI reacting later. "
   ]
  },
  {
   "cell_type": "code",
   "execution_count": 112,
   "metadata": {},
   "outputs": [
    {
     "data": {
      "image/png": "[encoded data removed]",
      "text/plain": [
       "<Figure size 1500x800 with 1 Axes>"
      ]
     },
     "metadata": {},
     "output_type": "display_data"
    }
   ],
   "source": [
    "# Create columns for the time-shifted VHI (positive shift, takes a VHI earlier than the CDI)\n",
    "time_shifts = [0, 2, 4, 6, 8]  # Example time shifts in weeks\n",
    "for shift in time_shifts:\n",
    "    df_filtered.loc[:, f'VHI_shifted_{shift}'] = df_filtered.groupby('Region_ID')['VHI'].shift(shift)\n",
    "\n",
    "# Reshape data to long format\n",
    "df_melted = df_filtered.melt(id_vars=['CDI', 'Region_ID'], \n",
    "                             value_vars=[f'VHI_shifted_{shift}' for shift in time_shifts],\n",
    "                             var_name='Shift', value_name='VHI_value')\n",
    "df_melted['Shift'] = df_melted['Shift'].str.extract('(\\d+)').astype(int)\n",
    "\n",
    "cdi_categories = [1, 2, 3, 4, 5]\n",
    "df_melted['CDI'] = pd.Categorical(df_melted['CDI'].round(), categories=cdi_categories, ordered=True)\n",
    "\n",
    "plt.figure(figsize=(15, 8))\n",
    "ax = sns.boxplot(x='CDI', y='VHI_value', hue='Shift', data=df_melted, order=cdi_categories)\n",
    "plt.xlabel('Combined Drought Index')\n",
    "plt.ylabel('Vegetation Health Index')\n",
    "plt.grid(False)\n",
    "plt.title(f\"{start_date} to {end_date}\")\n",
    "plt.legend(title='Weeks Earlier', loc='lower center', bbox_to_anchor=(0.5, 0.05), ncol=len(time_shifts))\n",
    "ax.set_xlim(-0.5, 4.5)\n",
    "ax.set_xticks(range(5))\n",
    "ax.set_xticklabels(cdi_categories)\n",
    "ax.set_ylim(0, 100)\n",
    "plt.tight_layout()\n",
    "plt.show()"
   ]
  },
  {
   "cell_type": "markdown",
   "metadata": {},
   "source": [
    "To do:\n",
    "- *filter for availability*\n",
    "- *only summer half year*\n",
    "- *Comparison between different warn regions, does it work better in certain areas?*"
   ]
  }
 ],
 "metadata": {
  "kernelspec": {
   "display_name": ".venv",
   "language": "python",
   "name": "python3"
  },
  "language_info": {
   "codemirror_mode": {
    "name": "ipython",
    "version": 3
   },
   "file_extension": ".py",
   "mimetype": "text/x-python",
   "name": "python",
   "nbconvert_exporter": "python",
   "pygments_lexer": "ipython3",
   "version": "3.11.3"
  }
 },
 "nbformat": 4,
 "nbformat_minor": 2
}
